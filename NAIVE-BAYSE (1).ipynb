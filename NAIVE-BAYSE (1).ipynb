{
 "cells": [
  {
   "cell_type": "code",
   "execution_count": 129,
   "metadata": {},
   "outputs": [],
   "source": [
    "import numpy as np\n",
    "import pandas as pd \n",
    "import matplotlib.pyplot as plt\n",
    "import seaborn as sns\n",
    "import warnings\n",
    "warnings.filterwarnings('ignore')"
   ]
  },
  {
   "cell_type": "code",
   "execution_count": 130,
   "metadata": {},
   "outputs": [
    {
     "data": {
      "text/plain": [
       "(1727, 7)"
      ]
     },
     "execution_count": 130,
     "metadata": {},
     "output_type": "execute_result"
    }
   ],
   "source": [
    "#read data file from our location\n",
    "#Add the column title\n",
    "#show the shape of dataset\n",
    "df = pd.read_excel('D:\\Project-ML\\car_data1.xlsx')\n",
    "df.columns = ['Buying', 'Maint', 'Doors','Persons','Lug_Boot','Safety','Evaluation']\n",
    "df.shape"
   ]
  },
  {
   "cell_type": "code",
   "execution_count": 16,
   "metadata": {},
   "outputs": [
    {
     "name": "stdout",
     "output_type": "stream",
     "text": [
      "     Buying  Maint  Doors Persons Lug_Boot Safety Evaluation\n",
      "0     vhigh  vhigh      2       2    small    med      unacc\n",
      "1     vhigh  vhigh      2       2    small   high      unacc\n",
      "2     vhigh  vhigh      2       2      med    low      unacc\n",
      "3     vhigh  vhigh      2       2      med    med      unacc\n",
      "4     vhigh  vhigh      2       2      med   high      unacc\n",
      "...     ...    ...    ...     ...      ...    ...        ...\n",
      "1722    low    low  5more    more      med    med       good\n",
      "1723    low    low  5more    more      med   high      vgood\n",
      "1724    low    low  5more    more      big    low      unacc\n",
      "1725    low    low  5more    more      big    med       good\n",
      "1726    low    low  5more    more      big   high      vgood\n",
      "\n",
      "[1727 rows x 7 columns]\n"
     ]
    }
   ],
   "source": [
    "print(df)"
   ]
  },
  {
   "cell_type": "code",
   "execution_count": 131,
   "metadata": {},
   "outputs": [
    {
     "data": {
      "text/html": [
       "<div>\n",
       "<style scoped>\n",
       "    .dataframe tbody tr th:only-of-type {\n",
       "        vertical-align: middle;\n",
       "    }\n",
       "\n",
       "    .dataframe tbody tr th {\n",
       "        vertical-align: top;\n",
       "    }\n",
       "\n",
       "    .dataframe thead th {\n",
       "        text-align: right;\n",
       "    }\n",
       "</style>\n",
       "<table border=\"1\" class=\"dataframe\">\n",
       "  <thead>\n",
       "    <tr style=\"text-align: right;\">\n",
       "      <th></th>\n",
       "      <th>Buying</th>\n",
       "      <th>Maint</th>\n",
       "      <th>Doors</th>\n",
       "      <th>Persons</th>\n",
       "      <th>Lug_Boot</th>\n",
       "      <th>Safety</th>\n",
       "      <th>Evaluation</th>\n",
       "    </tr>\n",
       "  </thead>\n",
       "  <tbody>\n",
       "    <tr>\n",
       "      <td>0</td>\n",
       "      <td>vhigh</td>\n",
       "      <td>vhigh</td>\n",
       "      <td>2</td>\n",
       "      <td>2</td>\n",
       "      <td>small</td>\n",
       "      <td>med</td>\n",
       "      <td>unacc</td>\n",
       "    </tr>\n",
       "    <tr>\n",
       "      <td>1</td>\n",
       "      <td>vhigh</td>\n",
       "      <td>vhigh</td>\n",
       "      <td>2</td>\n",
       "      <td>2</td>\n",
       "      <td>small</td>\n",
       "      <td>high</td>\n",
       "      <td>unacc</td>\n",
       "    </tr>\n",
       "    <tr>\n",
       "      <td>2</td>\n",
       "      <td>vhigh</td>\n",
       "      <td>vhigh</td>\n",
       "      <td>2</td>\n",
       "      <td>2</td>\n",
       "      <td>med</td>\n",
       "      <td>low</td>\n",
       "      <td>unacc</td>\n",
       "    </tr>\n",
       "    <tr>\n",
       "      <td>3</td>\n",
       "      <td>vhigh</td>\n",
       "      <td>vhigh</td>\n",
       "      <td>2</td>\n",
       "      <td>2</td>\n",
       "      <td>med</td>\n",
       "      <td>med</td>\n",
       "      <td>unacc</td>\n",
       "    </tr>\n",
       "    <tr>\n",
       "      <td>4</td>\n",
       "      <td>vhigh</td>\n",
       "      <td>vhigh</td>\n",
       "      <td>2</td>\n",
       "      <td>2</td>\n",
       "      <td>med</td>\n",
       "      <td>high</td>\n",
       "      <td>unacc</td>\n",
       "    </tr>\n",
       "  </tbody>\n",
       "</table>\n",
       "</div>"
      ],
      "text/plain": [
       "  Buying  Maint Doors Persons Lug_Boot Safety Evaluation\n",
       "0  vhigh  vhigh     2       2    small    med      unacc\n",
       "1  vhigh  vhigh     2       2    small   high      unacc\n",
       "2  vhigh  vhigh     2       2      med    low      unacc\n",
       "3  vhigh  vhigh     2       2      med    med      unacc\n",
       "4  vhigh  vhigh     2       2      med   high      unacc"
      ]
     },
     "execution_count": 131,
     "metadata": {},
     "output_type": "execute_result"
    }
   ],
   "source": [
    "#print our first 5 data instance from dataset. \n",
    "df.head()"
   ]
  },
  {
   "cell_type": "code",
   "execution_count": 132,
   "metadata": {},
   "outputs": [
    {
     "data": {
      "text/html": [
       "<div>\n",
       "<style scoped>\n",
       "    .dataframe tbody tr th:only-of-type {\n",
       "        vertical-align: middle;\n",
       "    }\n",
       "\n",
       "    .dataframe tbody tr th {\n",
       "        vertical-align: top;\n",
       "    }\n",
       "\n",
       "    .dataframe thead th {\n",
       "        text-align: right;\n",
       "    }\n",
       "</style>\n",
       "<table border=\"1\" class=\"dataframe\">\n",
       "  <thead>\n",
       "    <tr style=\"text-align: right;\">\n",
       "      <th></th>\n",
       "      <th>Buying</th>\n",
       "      <th>Maint</th>\n",
       "      <th>Doors</th>\n",
       "      <th>Persons</th>\n",
       "      <th>Lug_Boot</th>\n",
       "      <th>Safety</th>\n",
       "      <th>Evaluation</th>\n",
       "    </tr>\n",
       "  </thead>\n",
       "  <tbody>\n",
       "    <tr>\n",
       "      <td>count</td>\n",
       "      <td>1727</td>\n",
       "      <td>1727</td>\n",
       "      <td>1727</td>\n",
       "      <td>1727</td>\n",
       "      <td>1727</td>\n",
       "      <td>1727</td>\n",
       "      <td>1727</td>\n",
       "    </tr>\n",
       "    <tr>\n",
       "      <td>unique</td>\n",
       "      <td>4</td>\n",
       "      <td>4</td>\n",
       "      <td>4</td>\n",
       "      <td>3</td>\n",
       "      <td>3</td>\n",
       "      <td>3</td>\n",
       "      <td>4</td>\n",
       "    </tr>\n",
       "    <tr>\n",
       "      <td>top</td>\n",
       "      <td>low</td>\n",
       "      <td>low</td>\n",
       "      <td>5more</td>\n",
       "      <td>more</td>\n",
       "      <td>med</td>\n",
       "      <td>med</td>\n",
       "      <td>unacc</td>\n",
       "    </tr>\n",
       "    <tr>\n",
       "      <td>freq</td>\n",
       "      <td>432</td>\n",
       "      <td>432</td>\n",
       "      <td>432</td>\n",
       "      <td>576</td>\n",
       "      <td>576</td>\n",
       "      <td>576</td>\n",
       "      <td>1209</td>\n",
       "    </tr>\n",
       "  </tbody>\n",
       "</table>\n",
       "</div>"
      ],
      "text/plain": [
       "       Buying Maint  Doors Persons Lug_Boot Safety Evaluation\n",
       "count    1727  1727   1727    1727     1727   1727       1727\n",
       "unique      4     4      4       3        3      3          4\n",
       "top       low   low  5more    more      med    med      unacc\n",
       "freq      432   432    432     576      576    576       1209"
      ]
     },
     "execution_count": 132,
     "metadata": {},
     "output_type": "execute_result"
    }
   ],
   "source": [
    "#decribe our dataset\n",
    "df.describe()"
   ]
  },
  {
   "cell_type": "code",
   "execution_count": 133,
   "metadata": {},
   "outputs": [
    {
     "data": {
      "text/plain": [
       "Buying        0\n",
       "Maint         0\n",
       "Doors         0\n",
       "Persons       0\n",
       "Lug_Boot      0\n",
       "Safety        0\n",
       "Evaluation    0\n",
       "dtype: int64"
      ]
     },
     "execution_count": 133,
     "metadata": {},
     "output_type": "execute_result"
    }
   ],
   "source": [
    "#to check null or missing value\n",
    "df.isna().sum()"
   ]
  },
  {
   "cell_type": "code",
   "execution_count": 134,
   "metadata": {},
   "outputs": [
    {
     "data": {
      "text/plain": [
       "unacc    1209\n",
       "acc       384\n",
       "good       69\n",
       "vgood      65\n",
       "Name: Evaluation, dtype: int64"
      ]
     },
     "execution_count": 134,
     "metadata": {},
     "output_type": "execute_result"
    }
   ],
   "source": [
    "#count the class vise data value from dataset\n",
    "df['Evaluation'].value_counts()"
   ]
  },
  {
   "cell_type": "code",
   "execution_count": 135,
   "metadata": {},
   "outputs": [
    {
     "data": {
      "text/plain": [
       "<matplotlib.axes._subplots.AxesSubplot at 0x1fd3372fd08>"
      ]
     },
     "execution_count": 135,
     "metadata": {},
     "output_type": "execute_result"
    },
    {
     "data": {
      "image/png": "[encoded data removed]",
      "text/plain": [
       "<Figure size 432x288 with 1 Axes>"
      ]
     },
     "metadata": {
      "needs_background": "light"
     },
     "output_type": "display_data"
    }
   ],
   "source": [
    "#used seaborn for differentiate four different class with different colors.\n",
    "sns.countplot(df['Evaluation'])"
   ]
  },
  {
   "cell_type": "code",
   "execution_count": 136,
   "metadata": {},
   "outputs": [
    {
     "data": {
      "text/plain": [
       "Buying        object\n",
       "Maint         object\n",
       "Doors         object\n",
       "Persons       object\n",
       "Lug_Boot      object\n",
       "Safety        object\n",
       "Evaluation    object\n",
       "dtype: object"
      ]
     },
     "execution_count": 136,
     "metadata": {},
     "output_type": "execute_result"
    }
   ],
   "source": [
    "#check data types\n",
    "df.dtypes"
   ]
  },
  {
   "cell_type": "code",
   "execution_count": 137,
   "metadata": {},
   "outputs": [],
   "source": [
    "#categorical data must be encoded to numbers\n",
    "\n",
    "from sklearn.preprocessing import LabelEncoder"
   ]
  },
  {
   "cell_type": "code",
   "execution_count": 138,
   "metadata": {},
   "outputs": [],
   "source": [
    "le=LabelEncoder()"
   ]
  },
  {
   "cell_type": "code",
   "execution_count": 139,
   "metadata": {},
   "outputs": [],
   "source": [
    "for i in df.columns:\n",
    "    df[i]=le.fit_transform(df[i])"
   ]
  },
  {
   "cell_type": "code",
   "execution_count": 26,
   "metadata": {},
   "outputs": [
    {
     "name": "stdout",
     "output_type": "stream",
     "text": [
      "      Buying  Maint  Doors  Persons  Lug_Boot  Safety  Evaluation\n",
      "0          3      3      0        0         2       2           2\n",
      "1          3      3      0        0         2       0           2\n",
      "2          3      3      0        0         1       1           2\n",
      "3          3      3      0        0         1       2           2\n",
      "4          3      3      0        0         1       0           2\n",
      "...      ...    ...    ...      ...       ...     ...         ...\n",
      "1722       1      1      3        2         1       2           1\n",
      "1723       1      1      3        2         1       0           3\n",
      "1724       1      1      3        2         0       1           2\n",
      "1725       1      1      3        2         0       2           1\n",
      "1726       1      1      3        2         0       0           3\n",
      "\n",
      "[1727 rows x 7 columns]\n"
     ]
    }
   ],
   "source": [
    "print(df)"
   ]
  },
  {
   "cell_type": "code",
   "execution_count": 140,
   "metadata": {},
   "outputs": [],
   "source": [
    "from sklearn.ensemble import RandomForestClassifier\n",
    "from sklearn.naive_bayes import GaussianNB\n",
    "from sklearn.model_selection import train_test_split\n",
    "from sklearn.metrics import accuracy_score, f1_score, precision_score, recall_score, classification_report, confusion_matrix"
   ]
  },
  {
   "cell_type": "code",
   "execution_count": 141,
   "metadata": {},
   "outputs": [],
   "source": [
    "#describe X as features and y as class. \n",
    "x=df[df.columns[:-1]]\n",
    "y=df['Evaluation']"
   ]
  },
  {
   "cell_type": "code",
   "execution_count": 142,
   "metadata": {},
   "outputs": [],
   "source": [
    "#split dataset into test set and training set\n",
    "# training size is 1600 and test size is 127 \n",
    "X_train, X_test, y_train, y_test = train_test_split(x, y, test_size=0.073, random_state=50)"
   ]
  },
  {
   "cell_type": "code",
   "execution_count": 143,
   "metadata": {},
   "outputs": [],
   "source": [
    "#create a Caussian classifier\n",
    "gnb = GaussianNB()\n",
    "#Predict the values on the test data instance  \n",
    "y_pred = gnb.fit(X_train, y_train).predict(X_test)"
   ]
  },
  {
   "cell_type": "code",
   "execution_count": 144,
   "metadata": {},
   "outputs": [
    {
     "name": "stdout",
     "output_type": "stream",
     "text": [
      "[[ 4  0 16  9]\n",
      " [ 0  0  2  2]\n",
      " [ 0  0 79 10]\n",
      " [ 0  0  0  5]]\n"
     ]
    }
   ],
   "source": [
    "#create confusion matrix \n",
    "cm = confusion_matrix(y_test, y_pred)\n",
    "print(cm)"
   ]
  },
  {
   "cell_type": "code",
   "execution_count": 145,
   "metadata": {},
   "outputs": [
    {
     "data": {
      "text/plain": [
       "0.6929133858267716"
      ]
     },
     "execution_count": 145,
     "metadata": {},
     "output_type": "execute_result"
    }
   ],
   "source": [
    "##To check accuracy  \n",
    "accuracy_score(y_test, y_pred)"
   ]
  },
  {
   "cell_type": "code",
   "execution_count": 146,
   "metadata": {},
   "outputs": [
    {
     "name": "stdout",
     "output_type": "stream",
     "text": [
      "              precision    recall  f1-score   support\n",
      "\n",
      "           0       1.00      0.14      0.24        29\n",
      "           1       0.00      0.00      0.00         4\n",
      "           2       0.81      0.89      0.85        89\n",
      "           3       0.19      1.00      0.32         5\n",
      "\n",
      "    accuracy                           0.69       127\n",
      "   macro avg       0.50      0.51      0.35       127\n",
      "weighted avg       0.81      0.69      0.66       127\n",
      "\n"
     ]
    }
   ],
   "source": [
    "print(classification_report(y_test, y_pred))"
   ]
  },
  {
   "cell_type": "code",
   "execution_count": 113,
   "metadata": {},
   "outputs": [],
   "source": [
    "#2\n",
    "#training data size is 1527 and testing data size is 200.\n",
    "x_train_200, x_test_200, y_train_200, y_test_200 = train_test_split(x, y, test_size=0.12, random_state=50)\n",
    "# training size is 500 and test size is 200\n",
    "X_train, X_test, y_train, y_test = train_test_split(x, y, test_size=0.7, random_state=50)"
   ]
  },
  {
   "cell_type": "code",
   "execution_count": 114,
   "metadata": {},
   "outputs": [],
   "source": [
    "#create a Caussian classifier\n",
    "gnb = GaussianNB()\n",
    "#Predict the values on the test data instance  \n",
    "y_pred = gnb.fit(X_train, y_train).predict(x_test_200)"
   ]
  },
  {
   "cell_type": "code",
   "execution_count": 115,
   "metadata": {},
   "outputs": [
    {
     "name": "stdout",
     "output_type": "stream",
     "text": [
      "[[ 12   0  15  23]\n",
      " [  0   0   3   4]\n",
      " [  7   0 113  23]\n",
      " [  0   0   0   8]]\n"
     ]
    }
   ],
   "source": [
    "#create confusion matrix \n",
    "cm = confusion_matrix(y_test_200, y_pred)\n",
    "print(cm)"
   ]
  },
  {
   "cell_type": "code",
   "execution_count": 116,
   "metadata": {},
   "outputs": [
    {
     "data": {
      "text/plain": [
       "0.6394230769230769"
      ]
     },
     "execution_count": 116,
     "metadata": {},
     "output_type": "execute_result"
    }
   ],
   "source": [
    "##To check accuracy   \n",
    "accuracy_score(y_test_200, y_pred)"
   ]
  },
  {
   "cell_type": "code",
   "execution_count": 117,
   "metadata": {},
   "outputs": [
    {
     "name": "stdout",
     "output_type": "stream",
     "text": [
      "              precision    recall  f1-score   support\n",
      "\n",
      "           0       0.63      0.24      0.35        50\n",
      "           1       0.00      0.00      0.00         7\n",
      "           2       0.86      0.79      0.82       143\n",
      "           3       0.14      1.00      0.24         8\n",
      "\n",
      "    accuracy                           0.64       208\n",
      "   macro avg       0.41      0.51      0.35       208\n",
      "weighted avg       0.75      0.64      0.66       208\n",
      "\n"
     ]
    }
   ],
   "source": [
    "print(classification_report(y_test_200, y_pred))"
   ]
  },
  {
   "cell_type": "code",
   "execution_count": 118,
   "metadata": {},
   "outputs": [],
   "source": [
    "#3\n",
    "#training data size is 1527 and testing data size is 200.\n",
    "x_train_200, x_test_200, y_train_200, y_test_200 = train_test_split(x, y, test_size=0.12, random_state=50)\n",
    "# training size is 750 and test size is 200\n",
    "X_train, X_test, y_train, y_test = train_test_split(x, y, test_size=0.6, random_state=50)"
   ]
  },
  {
   "cell_type": "code",
   "execution_count": 119,
   "metadata": {},
   "outputs": [],
   "source": [
    "#create a Caussian classifier\n",
    "gnb = GaussianNB()\n",
    "#Predict the values on the test data instance  \n",
    "y_pred = gnb.fit(X_train, y_train).predict(x_test_200)"
   ]
  },
  {
   "cell_type": "code",
   "execution_count": 120,
   "metadata": {},
   "outputs": [
    {
     "name": "stdout",
     "output_type": "stream",
     "text": [
      "[[ 11   0  16  23]\n",
      " [  0   0   3   4]\n",
      " [  4   0 117  22]\n",
      " [  0   0   0   8]]\n"
     ]
    }
   ],
   "source": [
    "#create confusion matrix \n",
    "cm = confusion_matrix(y_test_200, y_pred)\n",
    "print(cm)"
   ]
  },
  {
   "cell_type": "code",
   "execution_count": 121,
   "metadata": {},
   "outputs": [
    {
     "data": {
      "text/plain": [
       "0.6538461538461539"
      ]
     },
     "execution_count": 121,
     "metadata": {},
     "output_type": "execute_result"
    }
   ],
   "source": [
    "##To check accuracy   \n",
    "accuracy_score(y_test_200, y_pred)"
   ]
  },
  {
   "cell_type": "code",
   "execution_count": 122,
   "metadata": {},
   "outputs": [
    {
     "name": "stdout",
     "output_type": "stream",
     "text": [
      "              precision    recall  f1-score   support\n",
      "\n",
      "           0       0.73      0.22      0.34        50\n",
      "           1       0.00      0.00      0.00         7\n",
      "           2       0.86      0.82      0.84       143\n",
      "           3       0.14      1.00      0.25         8\n",
      "\n",
      "    accuracy                           0.65       208\n",
      "   macro avg       0.43      0.51      0.36       208\n",
      "weighted avg       0.77      0.65      0.67       208\n",
      "\n"
     ]
    }
   ],
   "source": [
    "print(classification_report(y_test_200, y_pred))"
   ]
  },
  {
   "cell_type": "code",
   "execution_count": 123,
   "metadata": {},
   "outputs": [],
   "source": [
    "#4\n",
    "#training data size is 1527 and testing data size is 200.\n",
    "x_train_200, x_test_200, y_train_200, y_test_200 = train_test_split(x, y, test_size=0.12, random_state=50)\n",
    "# training size is 1250 and test size is 200\n",
    "X_train, X_test, y_train, y_test = train_test_split(x, y, test_size=0.27, random_state=50)"
   ]
  },
  {
   "cell_type": "code",
   "execution_count": 124,
   "metadata": {},
   "outputs": [],
   "source": [
    "#create a Caussian classifier\n",
    "gnb = GaussianNB()\n",
    "#Predict the values on the test data instance  \n",
    "y_pred = gnb.fit(X_train, y_train).predict(x_test_200)"
   ]
  },
  {
   "cell_type": "code",
   "execution_count": 125,
   "metadata": {},
   "outputs": [
    {
     "name": "stdout",
     "output_type": "stream",
     "text": [
      "[[  6   0  21  23]\n",
      " [  0   0   3   4]\n",
      " [  0   0 120  23]\n",
      " [  0   0   0   8]]\n"
     ]
    }
   ],
   "source": [
    "#create confusion matrix \n",
    "cm = confusion_matrix(y_test_200, y_pred)\n",
    "print(cm)"
   ]
  },
  {
   "cell_type": "code",
   "execution_count": 126,
   "metadata": {},
   "outputs": [
    {
     "data": {
      "text/plain": [
       "0.6442307692307693"
      ]
     },
     "execution_count": 126,
     "metadata": {},
     "output_type": "execute_result"
    }
   ],
   "source": [
    "##To check accuracy   \n",
    "accuracy_score(y_test_200, y_pred)"
   ]
  },
  {
   "cell_type": "code",
   "execution_count": 127,
   "metadata": {},
   "outputs": [
    {
     "name": "stdout",
     "output_type": "stream",
     "text": [
      "              precision    recall  f1-score   support\n",
      "\n",
      "           0       1.00      0.12      0.21        50\n",
      "           1       0.00      0.00      0.00         7\n",
      "           2       0.83      0.84      0.84       143\n",
      "           3       0.14      1.00      0.24         8\n",
      "\n",
      "    accuracy                           0.64       208\n",
      "   macro avg       0.49      0.49      0.32       208\n",
      "weighted avg       0.82      0.64      0.64       208\n",
      "\n"
     ]
    }
   ],
   "source": [
    "print(classification_report(y_test_200, y_pred))"
   ]
  }
 ],
 "metadata": {
  "kernelspec": {
   "display_name": "Python 3",
   "language": "python",
   "name": "python3"
  },
  "language_info": {
   "codemirror_mode": {
    "name": "ipython",
    "version": 3
   },
   "file_extension": ".py",
   "mimetype": "text/x-python",
   "name": "python",
   "nbconvert_exporter": "python",
   "pygments_lexer": "ipython3",
   "version": "3.8.5"
  }
 },
 "nbformat": 4,
 "nbformat_minor": 2
}
